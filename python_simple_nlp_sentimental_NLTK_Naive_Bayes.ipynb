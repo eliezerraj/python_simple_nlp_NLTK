{
 "cells": [
  {
   "cell_type": "code",
   "execution_count": 145,
   "metadata": {},
   "outputs": [],
   "source": [
    "import nltk"
   ]
  },
  {
   "cell_type": "code",
   "execution_count": 146,
   "metadata": {},
   "outputs": [],
   "source": [
    "def get_words(_subj):\n",
    "    all_words = []\n",
    "    for (words, sentiment) in _subj:\n",
    "      all_words.extend(words)\n",
    "    return all_words\n",
    "\n",
    "def get_features(_list):\n",
    "    _list = nltk.FreqDist(_list)\n",
    "    word_features = _list.keys()\n",
    "    return word_features\n",
    "\n",
    "def extract(document):\n",
    "    document_words = set(document)\n",
    "    features = {}\n",
    "    for word in word_features:\n",
    "        features['contains(%s)' % word] = (word in document_words)\n",
    "    return features"
   ]
  },
  {
   "cell_type": "code",
   "execution_count": 147,
   "metadata": {
    "collapsed": true
   },
   "outputs": [],
   "source": [
    "pos_subj = [('Eu amo esse carro', 'positive'),\n",
    "              ('Isso e muito legal', 'positive'),\n",
    "              ('Eu me sinto bem hoje', 'positive'),\n",
    "              ('Eu estou muito ansioso por esse show', 'positive'),\n",
    "              ('Ele e o meu melhor amigo', 'positive'),\n",
    "              ('Muito bem', 'positive'),\n",
    "              ('Obrigado', 'positive'),\n",
    "              ('bom', 'positive'),\n",
    "              ('Arroz e feijão é muito gostoso', 'positive'),\n",
    "              ('Arroz é gostoso', 'positive'),\n",
    "              ('Eu espero que esteja bem', 'positive'),\n",
    "              ('Achei sensacional isso', 'positive'),\n",
    "              ('Eu estou muito feliz', 'positive'),\n",
    "              ('Bom para voce', 'positive')]\n",
    "              \n",
    "neg_subj = [('Eu não gosto deste carro', 'negative'),\n",
    "              ('Essa visão é horrível', 'negative'),\n",
    "              ('Sinto-me cansado esta manhã', 'negative'),\n",
    "              ('Não estou ansioso para o concerto', 'negative'),\n",
    "              ('Ele é o meu inimigo', 'negative'),\n",
    "              ('Eu sou um mau garoto', 'negative'),\n",
    "              ('Isso não é bom', 'negative'),\n",
    "              ('xixi fede', 'negative'),\n",
    "              ('Ele é feio', 'negative'),\n",
    "              ('Estou incomodado por isso', 'negative'),\n",
    "              ('Eu não estou conectado com isso', 'negative'),\n",
    "              ('Não é seu email', 'negative'),\n",
    "              ('O seu pai esta morto, ele não retornara', 'negative'),\n",
    "              ('Ele tem uma bomba', 'negative'),\n",
    "              ('Ele é muito rapido, eu nao alcanço ele', 'negative')]"
   ]
  },
  {
   "cell_type": "code",
   "execution_count": 148,
   "metadata": {},
   "outputs": [],
   "source": [
    "subjs = []\n",
    "for (words, sentiment) in pos_subj + neg_subj:\n",
    "    words_filtered = [e.lower() for e in words.split() if len(e) >= 3] \n",
    "    subjs.append((words_filtered, sentiment))"
   ]
  },
  {
   "cell_type": "code",
   "execution_count": 149,
   "metadata": {},
   "outputs": [
    {
     "data": {
      "text/plain": [
       "dict_keys(['amo', 'esse', 'carro', 'isso', 'muito', 'legal', 'sinto', 'bem', 'hoje', 'estou', 'ansioso', 'por', 'show', 'ele', 'meu', 'melhor', 'amigo', 'obrigado', 'bom', 'arroz', 'feijão', 'gostoso', 'espero', 'que', 'esteja', 'achei', 'sensacional', 'feliz', 'para', 'voce', 'não', 'gosto', 'deste', 'essa', 'visão', 'horrível', 'sinto-me', 'cansado', 'esta', 'manhã', 'concerto', 'inimigo', 'sou', 'mau', 'garoto', 'xixi', 'fede', 'feio', 'incomodado', 'conectado', 'com', 'seu', 'email', 'pai', 'morto,', 'retornara', 'tem', 'uma', 'bomba', 'rapido,', 'nao', 'alcanço'])"
      ]
     },
     "execution_count": 149,
     "metadata": {},
     "output_type": "execute_result"
    }
   ],
   "source": [
    "word_features = get_features(get_words(subjs))\n",
    "word_features"
   ]
  },
  {
   "cell_type": "code",
   "execution_count": 153,
   "metadata": {
    "collapsed": true
   },
   "outputs": [],
   "source": [
    "training_set = nltk.classify.apply_features(extract, subjs)\n",
    "classifier = nltk.NaiveBayesClassifier.train(training_set)"
   ]
  },
  {
   "cell_type": "code",
   "execution_count": 157,
   "metadata": {},
   "outputs": [
    {
     "name": "stdout",
     "output_type": "stream",
     "text": [
      "negative\n",
      "negative\n",
      "positive\n",
      "Positive count: 1 \n",
      "Negative count: 2\n"
     ]
    }
   ],
   "source": [
    "testing = [] \n",
    "testing.append('eu gosto de bomba')  \n",
    "testing.append('essa bomba é sensacional') \n",
    "testing.append('sensacional esse carro') \n",
    "pos_count = 0\n",
    "neg_count = 0\n",
    "for x in testing:\n",
    "  valued = classifier.classify(extract_features(x.split()))\n",
    "  print (valued)\n",
    "  if valued == 'negative':\n",
    "    neg_count = neg_count + 1\n",
    "  else:\n",
    "    pos_count = pos_count + 1\n",
    "\n",
    "print ('Positive count: %s \\nNegative count: %s' % (pos_count,neg_count))"
   ]
  },
  {
   "cell_type": "code",
   "execution_count": null,
   "metadata": {
    "collapsed": true
   },
   "outputs": [],
   "source": []
  },
  {
   "cell_type": "code",
   "execution_count": null,
   "metadata": {
    "collapsed": true
   },
   "outputs": [],
   "source": []
  }
 ],
 "metadata": {
  "kernelspec": {
   "display_name": "Python 3",
   "language": "python",
   "name": "python3"
  },
  "language_info": {
   "codemirror_mode": {
    "name": "ipython",
    "version": 3
   },
   "file_extension": ".py",
   "mimetype": "text/x-python",
   "name": "python",
   "nbconvert_exporter": "python",
   "pygments_lexer": "ipython3",
   "version": "3.6.3"
  }
 },
 "nbformat": 4,
 "nbformat_minor": 2
}
